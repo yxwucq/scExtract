{
 "cells": [
  {
   "cell_type": "code",
   "execution_count": 14,
   "metadata": {},
   "outputs": [],
   "source": [
    "import os\n",
    "from pathlib import Path\n",
    "import anndata as ad\n",
    "from scipy import sparse\n",
    "import scanpy as sc"
   ]
  },
  {
   "cell_type": "code",
   "execution_count": 3,
   "metadata": {},
   "outputs": [
    {
     "data": {
      "text/plain": [
       "'/home/wu/datb1/AutoExtractSingleCell/03.skin_phase2/sample2/raw_data'"
      ]
     },
     "execution_count": 3,
     "metadata": {},
     "output_type": "execute_result"
    }
   ],
   "source": [
    "os.chdir(Path().resolve())\n",
    "os.getcwd()"
   ]
  },
  {
   "cell_type": "code",
   "execution_count": 18,
   "metadata": {},
   "outputs": [
    {
     "name": "stdout",
     "output_type": "stream",
     "text": [
      "Processing sample GSM5277188_PN-9709PC.csv.gz\n",
      "(927, 33538)\n",
      "Processing sample GSM5277173_NS-AR005.csv.gz\n",
      "(1064, 33538)\n",
      "Processing sample GSM5277200_PP-8940.csv.gz\n",
      "(3929, 33538)\n",
      "Processing sample GSM5277171_NS-AR003.csv.gz\n",
      "(2345, 33538)\n",
      "Processing sample GSM5277174_NS-AR006.csv.gz\n",
      "(2438, 33538)\n",
      "Processing sample GSM5277190_PP-30696V3.csv.gz\n",
      "(2101, 33538)\n",
      "Processing sample GSM5277186_PN-8940.csv.gz\n",
      "(5577, 33538)\n",
      "Processing sample GSM5277185_PN-8659ED.csv.gz\n",
      "(3273, 33538)\n",
      "Processing sample GSM5277193_PP-31499.csv.gz\n",
      "(2843, 33538)\n",
      "Processing sample GSM5277187_PN-929.csv.gz\n",
      "(5216, 33538)\n",
      "Processing sample GSM5277191_PP-31170.csv.gz\n",
      "(3746, 33538)\n",
      "Processing sample GSM5277181_PN-31277.csv.gz\n",
      "(3522, 33538)\n",
      "Processing sample GSM5277184_PN-7802ED.csv.gz\n",
      "(5010, 33538)\n",
      "Processing sample GSM5277177_NS-AR009.csv.gz\n",
      "(2295, 33538)\n",
      "Processing sample GSM5277202_PP-9709PC.csv.gz\n",
      "(2994, 33538)\n",
      "Processing sample GSM5277192_PP-31277.csv.gz\n",
      "(3044, 33538)\n",
      "Processing sample GSM5277199_PP-8659ED.csv.gz\n",
      "(3177, 33538)\n",
      "Processing sample GSM5277170_NS-AR001.csv.gz\n",
      "(1148, 33538)\n",
      "Processing sample GSM5277172_NS-AR004.csv.gz\n",
      "(1156, 33538)\n",
      "Processing sample GSM5277180_PN-31170.csv.gz\n",
      "(1653, 33538)\n",
      "Processing sample GSM5277183_PN-5851.csv.gz\n",
      "(3386, 33538)\n",
      "Processing sample GSM5277195_PP-5851.csv.gz\n",
      "(1153, 33538)\n",
      "Processing sample GSM5277196_PP-6215A.csv.gz\n",
      "(3440, 33538)\n",
      "Processing sample GSM5277182_PN-369PC.csv.gz\n",
      "(1367, 33538)\n",
      "Processing sample GSM5277201_PP-929.csv.gz\n",
      "(5106, 33538)\n",
      "Processing sample GSM5277194_PP-369PC.csv.gz\n",
      "(2105, 33538)\n",
      "Processing sample GSM5277179_PN-30696V3.csv.gz\n",
      "(1563, 33538)\n",
      "Processing sample GSM5277175_NS-AR007.csv.gz\n",
      "(2880, 33538)\n",
      "Processing sample GSM5277176_NS-AR008.csv.gz\n",
      "(208, 33538)\n",
      "Processing sample GSM5277197_PP-6215B.csv.gz\n",
      "(4077, 33538)\n",
      "Processing sample GSM5277189_PP-30696.csv.gz\n",
      "(3339, 33538)\n",
      "Processing sample GSM5277198_PP-7802ED.csv.gz\n",
      "(5982, 33538)\n",
      "Processing sample GSM5277178_PN-30696.csv.gz\n",
      "(4024, 33538)\n"
     ]
    }
   ],
   "source": [
    "if 'adata_all' in locals():\n",
    "    del adata_all\n",
    "\n",
    "sample_set = os.listdir('.')\n",
    "for sample in sample_set:\n",
    "    if sample.endswith('csv.gz'):\n",
    "        adata = sc.read_text(sample, delimiter=',').T\n",
    "        adata.X = sparse.csr_matrix(adata.X)\n",
    "        print(f\"Processing sample {sample}\")\n",
    "        print(adata.shape)\n",
    "        # drop var col\n",
    "        # adata.var = pd.DataFrame(index=adata.var_names)\n",
    "        adata.obs['Batch'] = sample.replace('.csv.gz', '')\n",
    "        adata.var_names_make_unique()\n",
    "        adata.obs_names_make_unique()\n",
    "        adata.obs_names = adata.obs_names + '_' + adata.obs['Batch']\n",
    "        # if adata_all is already defined, concat the new adata to it\n",
    "        if 'adata_all' in locals():\n",
    "            adata_all = ad.concat([adata_all, adata], uns_merge='unique')\n",
    "        else:\n",
    "            adata_all = adata.copy()\n",
    "            adata_all.uns['batch'] = []\n",
    "            adata_all.uns['batch_raw'] = {}\n",
    "\n",
    "        del adata\n",
    "        \n",
    "        adata_all.uns['batch'].append(sample)\n",
    "        adata_all.uns['batch_raw'][sample] = len(adata_all.obs_names)\n",
    "        # adata_all.write('sample2_raw.h5ad')"
   ]
  },
  {
   "cell_type": "code",
   "execution_count": 23,
   "metadata": {},
   "outputs": [],
   "source": [
    "adata_all.obs['Disease'] = ''\n",
    "adata_all.obs.loc[adata_all.obs['Batch'].str.contains('PP'), 'Disease'] = 'Psor'\n",
    "adata_all.obs.loc[adata_all.obs['Batch'].str.contains('PN'), 'Disease'] = 'Psor Normal'\n",
    "adata_all.obs.loc[adata_all.obs['Batch'].str.contains('NS'), 'Disease'] = 'Healthy'"
   ]
  },
  {
   "cell_type": "code",
   "execution_count": 24,
   "metadata": {},
   "outputs": [
    {
     "data": {
      "text/plain": [
       "Disease\n",
       "Psor           47036\n",
       "Psor Normal    35518\n",
       "Healthy        13534\n",
       "Name: count, dtype: int64"
      ]
     },
     "execution_count": 24,
     "metadata": {},
     "output_type": "execute_result"
    }
   ],
   "source": [
    "adata_all.obs['Disease'].value_counts()"
   ]
  },
  {
   "cell_type": "code",
   "execution_count": 25,
   "metadata": {},
   "outputs": [],
   "source": [
    "adata_all.write('sample2_raw.h5ad')"
   ]
  }
 ],
 "metadata": {
  "kernelspec": {
   "display_name": "scanpy",
   "language": "python",
   "name": "python3"
  },
  "language_info": {
   "codemirror_mode": {
    "name": "ipython",
    "version": 3
   },
   "file_extension": ".py",
   "mimetype": "text/x-python",
   "name": "python",
   "nbconvert_exporter": "python",
   "pygments_lexer": "ipython3",
   "version": "3.11.6"
  }
 },
 "nbformat": 4,
 "nbformat_minor": 2
}
