{
 "cells": [
  {
   "cell_type": "code",
   "execution_count": 10,
   "metadata": {},
   "outputs": [],
   "source": [
    "import os\n",
    "from pathlib import Path\n",
    "import anndata as ad\n",
    "from scipy import sparse\n",
    "import numpy as np\n",
    "import scanpy as sc"
   ]
  },
  {
   "cell_type": "code",
   "execution_count": 2,
   "metadata": {},
   "outputs": [
    {
     "data": {
      "text/plain": [
       "'/home/wu/datb1/AutoExtractSingleCell/03.skin_phase2/sample3/raw_data'"
      ]
     },
     "execution_count": 2,
     "metadata": {},
     "output_type": "execute_result"
    }
   ],
   "source": [
    "os.chdir(Path().resolve())\n",
    "os.getcwd()"
   ]
  },
  {
   "cell_type": "code",
   "execution_count": 3,
   "metadata": {},
   "outputs": [
    {
     "data": {
      "text/plain": [
       "[]"
      ]
     },
     "execution_count": 3,
     "metadata": {},
     "output_type": "execute_result"
    }
   ],
   "source": [
    "# sample_set = set()\n",
    "# sample_list = [x for x in os.listdir('.') if x.endswith('.gz')]\n",
    "# for sample in sample_list:\n",
    "#     sample_set.add('_'.join(sample.split('_')[:3]))\n",
    "# sample_set = list(sample_set)\n",
    "# sample_set"
   ]
  },
  {
   "cell_type": "code",
   "execution_count": null,
   "metadata": {},
   "outputs": [],
   "source": [
    "# for sample in sample_set:\n",
    "#     os.mkdir(sample)\n",
    "#     for sample_file in sample_set:\n",
    "#         if sample in sample_file:\n",
    "#             os.system(f'mv {sample_file} {sample}')\n",
    "#             if 'barcodes' in sample_file:\n",
    "#                 os.system(f'mv {os.path.join(sample, sample_file)} {os.path.join(dir_path, sample, \"barcodes.tsv.gz\")}')\n",
    "#             elif 'features' in sample_file:\n",
    "#                 os.system(f'mv {os.path.join(sample, sample_file)} {os.path.join(dir_path, sample, \"features.tsv.gz\")}')\n",
    "#             elif 'matrix' in sample_file:\n",
    "#                 os.system(f'mv {os.path.join(sample, sample_file)} {os.path.join(dir_path, sample, \"matrix.mtx.gz\")}')"
   ]
  },
  {
   "cell_type": "code",
   "execution_count": 5,
   "metadata": {},
   "outputs": [
    {
     "name": "stdout",
     "output_type": "stream",
     "text": [
      "Processing sample GSM7120451_P1_V2\n",
      "(12970, 36601)\n",
      "Processing sample GSM7120468_P5_V3\n",
      "(14752, 36601)\n",
      "Processing sample GSM7120452_P1_V3\n",
      "(11768, 36601)\n",
      "Processing sample GSM7120454_P2_V1\n",
      "(12673, 36601)\n",
      "Processing sample GSM7120457_P3_V1\n",
      "(11310, 36601)\n",
      "Processing sample GSM7120464_P4_V3\n",
      "(9290, 36601)\n",
      "Processing sample GSM7120450_P1_V1\n",
      "(8347, 36601)\n",
      "Processing sample GSM7120461_P4_V1\n",
      "(12390, 36601)\n",
      "Processing sample GSM7120459_P3_V2\n",
      "(7598, 36601)\n",
      "Processing sample GSM7120463_P4_V2\n",
      "(12468, 36601)\n",
      "Processing sample GSM7120453_P2_V1\n",
      "(12020, 36601)\n",
      "Processing sample GSM7120462_P4_V1\n",
      "(11248, 36601)\n",
      "Processing sample GSM7120458_P3_V1\n",
      "(11539, 36601)\n",
      "Processing sample GSM7120460_P3_V3\n",
      "(7848, 36601)\n",
      "Processing sample GSM7120467_P5_V2\n",
      "(13762, 36601)\n",
      "Processing sample GSM7120465_P5_V1\n",
      "(14041, 36601)\n",
      "Processing sample GSM7120466_P5_V1\n",
      "(12407, 36601)\n",
      "Processing sample GSM7120455_P2_V2\n",
      "(10529, 36601)\n",
      "Processing sample GSM7120449_P1_V1\n",
      "(13554, 36601)\n",
      "Processing sample GSM7120456_P2_V3\n",
      "(14995, 36601)\n"
     ]
    }
   ],
   "source": [
    "if 'adata_all' in locals():\n",
    "    del adata_all\n",
    "\n",
    "sample_set = [x for x in os.listdir('.') if x.startswith('GSM')]\n",
    "\n",
    "for sample in sample_set:\n",
    "    adata = sc.read_10x_mtx(sample, var_names='gene_symbols', cache=True)\n",
    "    sc.pp.filter_cells(adata, min_genes=300)\n",
    "    print(f\"Processing sample {sample}\")\n",
    "    print(adata.shape)\n",
    "    # drop var col\n",
    "    # adata.var = pd.DataFrame(index=adata.var_names)\n",
    "    adata.obs_names = adata.obs_names + '_' + sample\n",
    "    adata.obs['Batch'] = sample\n",
    "    adata.var_names_make_unique()\n",
    "    adata.obs_names_make_unique()\n",
    "    # if adata_all is already defined, concat the new adata to it\n",
    "    if 'adata_all' in locals():\n",
    "        adata_all = ad.concat([adata_all, adata], uns_merge='unique')\n",
    "    else:\n",
    "        adata_all = adata.copy()\n",
    "        adata_all.uns['batch'] = []\n",
    "        adata_all.uns['batch_raw'] = {}\n",
    "\n",
    "    adata_all.uns['batch'].append(sample)\n",
    "    adata_all.uns['batch_raw'][sample] = len(adata_all.obs_names)\n",
    "    \n",
    "    # if adata_all.obs.shape[0] > 100000:\n",
    "    #     break # stop if the number of cells is too large"
   ]
  },
  {
   "cell_type": "code",
   "execution_count": 9,
   "metadata": {},
   "outputs": [
    {
     "data": {
      "text/plain": [
       "Disease\n",
       "Psor           179295\n",
       "Psor Normal     56214\n",
       "Name: count, dtype: int64"
      ]
     },
     "execution_count": 9,
     "metadata": {},
     "output_type": "execute_result"
    }
   ],
   "source": [
    "NL_list = ['GSM7120450', 'GSM7120454', 'GSM7120458', 'GSM7120462', 'GSM7120466']\n",
    "adata_all.obs['Disease'] = 'Psor'\n",
    "adata_all.obs.loc[adata_all.obs.index.str.contains('|'.join(NL_list)), 'Disease'] = 'Psor Normal'\n",
    "adata_all.obs.Disease.value_counts()"
   ]
  },
  {
   "cell_type": "code",
   "execution_count": 12,
   "metadata": {},
   "outputs": [],
   "source": [
    "# downsample to 60000 cells\n",
    "adata_all = adata_all[np.random.choice(adata_all.obs_names, 60000, replace=False), :].copy()"
   ]
  },
  {
   "cell_type": "code",
   "execution_count": 13,
   "metadata": {},
   "outputs": [
    {
     "data": {
      "text/plain": [
       "Disease\n",
       "Psor           45734\n",
       "Psor Normal    14266\n",
       "Name: count, dtype: int64"
      ]
     },
     "execution_count": 13,
     "metadata": {},
     "output_type": "execute_result"
    }
   ],
   "source": [
    "adata_all.obs.Disease.value_counts()"
   ]
  },
  {
   "cell_type": "code",
   "execution_count": 14,
   "metadata": {},
   "outputs": [],
   "source": [
    "adata_all.write('sample3_raw.h5ad')"
   ]
  }
 ],
 "metadata": {
  "kernelspec": {
   "display_name": "scanpy",
   "language": "python",
   "name": "python3"
  },
  "language_info": {
   "codemirror_mode": {
    "name": "ipython",
    "version": 3
   },
   "file_extension": ".py",
   "mimetype": "text/x-python",
   "name": "python",
   "nbconvert_exporter": "python",
   "pygments_lexer": "ipython3",
   "version": "3.11.6"
  }
 },
 "nbformat": 4,
 "nbformat_minor": 2
}
