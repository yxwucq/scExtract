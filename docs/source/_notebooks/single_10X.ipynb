{
 "cells": [
  {
   "cell_type": "code",
   "execution_count": 1,
   "metadata": {},
   "outputs": [],
   "source": [
    "import os\n",
    "from pathlib import Path\n",
    "import scanpy as sc"
   ]
  },
  {
   "cell_type": "code",
   "execution_count": 2,
   "metadata": {},
   "outputs": [
    {
     "data": {
      "text/plain": [
       "'/home/wu/datb1/AutoExtractSingleCell/03.skin_phase2/sample1/raw_data'"
      ]
     },
     "execution_count": 2,
     "metadata": {},
     "output_type": "execute_result"
    }
   ],
   "source": [
    "os.chdir(Path().resolve())\n",
    "os.getcwd()"
   ]
  },
  {
   "cell_type": "code",
   "execution_count": 3,
   "metadata": {},
   "outputs": [],
   "source": [
    "data = sc.read_10x_mtx('.', prefix='NCOMMS-19-7936188_scRNAseq_')"
   ]
  },
  {
   "cell_type": "code",
   "execution_count": 4,
   "metadata": {},
   "outputs": [],
   "source": [
    "data.obs['Batch'] = data.obs.index.str[:-len('_AAACCTGAGCTGTCTA')]\n",
    "data.obs['Disease'] = 'Healthy'"
   ]
  },
  {
   "cell_type": "code",
   "execution_count": 5,
   "metadata": {},
   "outputs": [
    {
     "data": {
      "text/plain": [
       "Batch\n",
       "N_Th2_r1        4040\n",
       "N_iTreg_r1      3851\n",
       "M_iTreg_r1      3616\n",
       "N_Th17_r1       3194\n",
       "M_Th17_r1       3144\n",
       "M_Th0_r1        3134\n",
       "M_Th2_r1        2893\n",
       "N_iTreg_r2      2737\n",
       "N_Th0_r1        2543\n",
       "M_iTreg_r2      2515\n",
       "N_Th17_r2       2421\n",
       "N_resting       2159\n",
       "M_Th17_r2       2123\n",
       "M_Th0_r2        1632\n",
       "M_resting_r2    1597\n",
       "M_resting_r1    1513\n",
       "Name: count, dtype: int64"
      ]
     },
     "execution_count": 5,
     "metadata": {},
     "output_type": "execute_result"
    }
   ],
   "source": [
    "data.obs['Batch'].value_counts()"
   ]
  },
  {
   "cell_type": "code",
   "execution_count": null,
   "metadata": {},
   "outputs": [],
   "source": [
    "data.var.index = data.var['gene_ids']"
   ]
  },
  {
   "cell_type": "code",
   "execution_count": 6,
   "metadata": {},
   "outputs": [],
   "source": [
    "data.write('sample1_raw.h5ad')"
   ]
  }
 ],
 "metadata": {
  "kernelspec": {
   "display_name": "scanpy",
   "language": "python",
   "name": "python3"
  },
  "language_info": {
   "codemirror_mode": {
    "name": "ipython",
    "version": 3
   },
   "file_extension": ".py",
   "mimetype": "text/x-python",
   "name": "python",
   "nbconvert_exporter": "python",
   "pygments_lexer": "ipython3",
   "version": "3.11.6"
  }
 },
 "nbformat": 4,
 "nbformat_minor": 2
}
